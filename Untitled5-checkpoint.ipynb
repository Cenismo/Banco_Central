{
 "cells": [
  {
   "cell_type": "code",
   "execution_count": null,
   "id": "53f68f11-f9b4-44c4-9a72-ae922f0c4882",
   "metadata": {},
   "outputs": [],
   "source": [
    "import urllib.request\n",
    "import pandas as pd\n",
    "csv_url = 'https://www.bcb.gov.br/api/relatorio/pt-br/contaspub?path=conteudo/txcred/Reports/TaxasCredito-Consolidadas-porTaxasAnuais-Historico.rdl&nome=RelatorioHist%C3%B3rico%20Posterior%20a%2001/01/2012&parametros=tipoPessoa:1;modalidade:218;encargo:101;periodoInicial:7/26/2021%2012:00:00%20AM;&exportar=CSV'\n",
    "urllib.request.urlretrieve(csv_url, 'MSFT.csv')\n",
    "\n"
   ]
  },
  {
   "cell_type": "code",
   "execution_count": 4,
   "id": "2a04c36f-3f75-4ef5-ae51-0b8d180a059e",
   "metadata": {},
   "outputs": [
    {
     "data": {
      "text/html": [
       "<div>\n",
       "<style scoped>\n",
       "    .dataframe tbody tr th:only-of-type {\n",
       "        vertical-align: middle;\n",
       "    }\n",
       "\n",
       "    .dataframe tbody tr th {\n",
       "        vertical-align: top;\n",
       "    }\n",
       "\n",
       "    .dataframe thead th {\n",
       "        text-align: right;\n",
       "    }\n",
       "</style>\n",
       "<table border=\"1\" class=\"dataframe\">\n",
       "  <thead>\n",
       "    <tr style=\"text-align: right;\">\n",
       "      <th></th>\n",
       "      <th>IF_NM</th>\n",
       "      <th>TAXAS_MENSAIS</th>\n",
       "      <th>TAXAS_ANUAIS</th>\n",
       "    </tr>\n",
       "    <tr>\n",
       "      <th>POSICAO</th>\n",
       "      <th></th>\n",
       "      <th></th>\n",
       "      <th></th>\n",
       "    </tr>\n",
       "  </thead>\n",
       "  <tbody>\n",
       "    <tr>\n",
       "      <th>1</th>\n",
       "      <td>BANCO INTER</td>\n",
       "      <td>1,17</td>\n",
       "      <td>14,91</td>\n",
       "    </tr>\n",
       "    <tr>\n",
       "      <th>2</th>\n",
       "      <td>BANCO SICOOB S.A.</td>\n",
       "      <td>1,17</td>\n",
       "      <td>14,97</td>\n",
       "    </tr>\n",
       "    <tr>\n",
       "      <th>3</th>\n",
       "      <td>CCB BRASIL S.A. - CFI</td>\n",
       "      <td>1,26</td>\n",
       "      <td>16,24</td>\n",
       "    </tr>\n",
       "    <tr>\n",
       "      <th>4</th>\n",
       "      <td>BCO CETELEM S.A.</td>\n",
       "      <td>1,28</td>\n",
       "      <td>16,43</td>\n",
       "    </tr>\n",
       "    <tr>\n",
       "      <th>5</th>\n",
       "      <td>FINANC ALFA S.A. CFI</td>\n",
       "      <td>1,29</td>\n",
       "      <td>16,56</td>\n",
       "    </tr>\n",
       "  </tbody>\n",
       "</table>\n",
       "</div>"
      ],
      "text/plain": [
       "                         IF_NM TAXAS_MENSAIS TAXAS_ANUAIS\n",
       "POSICAO                                                  \n",
       "1                  BANCO INTER          1,17        14,91\n",
       "2            BANCO SICOOB S.A.          1,17        14,97\n",
       "3        CCB BRASIL S.A. - CFI          1,26        16,24\n",
       "4             BCO CETELEM S.A.          1,28        16,43\n",
       "5         FINANC ALFA S.A. CFI          1,29        16,56"
      ]
     },
     "execution_count": 4,
     "metadata": {},
     "output_type": "execute_result"
    }
   ],
   "source": [
    "df = pd.read_csv(\"MSFT.CSV\",  index_col=\"POSICAO\", skiprows=3)\n",
    "\n",
    "df.head()"
   ]
  }
 ],
 "metadata": {
  "kernelspec": {
   "display_name": "Python 3",
   "language": "python",
   "name": "python3"
  },
  "language_info": {
   "codemirror_mode": {
    "name": "ipython",
    "version": 3
   },
   "file_extension": ".py",
   "mimetype": "text/x-python",
   "name": "python",
   "nbconvert_exporter": "python",
   "pygments_lexer": "ipython3",
   "version": "3.8.8"
  }
 },
 "nbformat": 4,
 "nbformat_minor": 5
}
